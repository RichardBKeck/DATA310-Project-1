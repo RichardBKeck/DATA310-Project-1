{
  "nbformat": 4,
  "nbformat_minor": 0,
  "metadata": {
    "colab": {
      "name": "Project 1 Question 2.ipynb",
      "provenance": []
    },
    "kernelspec": {
      "name": "python3",
      "display_name": "Python 3"
    },
    "language_info": {
      "name": "python"
    }
  },
  "cells": [
    {
      "cell_type": "code",
      "execution_count": 10,
      "metadata": {
        "id": "DteMFuDauHcx"
      },
      "outputs": [],
      "source": [
        "%matplotlib inline\n",
        "\n",
        "#Imports\n",
        "import numpy as np\n",
        "import matplotlib.pyplot as plt\n",
        "\n",
        "WW_Atlanta = ['St. Louis','New Orleans']\n",
        "WW_Nashville = ['St. Louis','New Orleans']\n",
        "\n",
        "dist = {'ny-atl': 866,\n",
        "        'ny-nas':900,\n",
        "        'nas-stl':309,\n",
        "        'nas-new':532,\n",
        "        'atl-stl':555,\n",
        "        'atl-new':470,\n",
        "        'stl-dal':662,\n",
        "        'new-dal':505}\n",
        "\n",
        "def MadMax(trials):\n",
        "  Atlanta_Dist = 0\n",
        "  Nashville_Dist = 0\n",
        "  atl_graph = []\n",
        "  nas_graph = []\n",
        "  for i in range(trials):\n",
        "    Atlanta_Choice = np.random.choice(WW_Atlanta,replace=True)\n",
        "    if Atlanta_Choice == 'St. Louis':\n",
        "      travel = (dist['ny-atl']+dist['atl-new']+dist['new-dal'])\n",
        "      Atlanta_Dist += travel\n",
        "    else:\n",
        "      travel = (dist['ny-atl']+dist['atl-stl']+dist['stl-dal'])\n",
        "      Atlanta_Dist += travel\n",
        "    Nashville_Choice = np.random.choice(WW_Nashville,replace=True)\n",
        "    if Nashville_Choice == 'St. Louis':\n",
        "      travel = (dist['ny-nas']+dist['nas-new']+dist['new-dal'])\n",
        "      Nashville_Dist += travel\n",
        "    else:\n",
        "      travel = (dist['ny-nas']+dist['nas-stl']+dist['stl-dal'])\n",
        "      Nashville_Dist += travel\n",
        "    \n",
        "\n",
        "    atl_graph.append(Atlanta_Dist/(i+1))\n",
        "    nas_graph.append(Nashville_Dist/(i+1))\n",
        "  plt.plot(atl_graph, label='Atlanta')\n",
        "  plt.plot(nas_graph, label='Nashville')\n",
        "  plt.tick_params(axis='x', colors='navy')\n",
        "  plt.tick_params(axis='y', colors='navy')\n",
        "  plt.xlabel('Repetitions of Experiment',fontsize=14,color='green')\n",
        "  plt.ylabel('Experimental Probability',fontsize=14,color='green')\n",
        "  plt.legend()\n",
        "  plt.show()\n",
        "\n",
        "  avg_dist_atl = Atlanta_Dist/trials\n",
        "  avg_dist_nas = Nashville_Dist/trials\n",
        "\n",
        "  #Outputs\n",
        "  print('Number of Trials: '+str(trials))\n",
        "  print('Average Distance When Starting towards Atlanta: '+ str(avg_dist_atl)+' miles')\n",
        "  print ('Average Distance When Starting towards Nashville: '+ str(avg_dist_nas)+' miles')\n",
        "\n",
        "  if avg_dist_atl < avg_dist_nas:\n",
        "    print('Mad Max should start towards Atlanta')\n",
        "  elif avg_dist_atl > avg_dist_nas:\n",
        "    print ('Mad Max should start towards Nashville')\n",
        "  else:\n",
        "    print ('A tie exists')"
      ]
    },
    {
      "cell_type": "code",
      "source": [
        "MadMax(10000)"
      ],
      "metadata": {
        "colab": {
          "base_uri": "https://localhost:8080/",
          "height": 356
        },
        "id": "KNoSxeMZuhYt",
        "outputId": "52469407-9fc9-49e5-dfa1-49f7bcd6f7c4"
      },
      "execution_count": 13,
      "outputs": [
        {
          "output_type": "display_data",
          "data": {
            "text/plain": [
              "<Figure size 432x288 with 1 Axes>"
            ],
            "image/png": "[encoded data removed]"
          },
          "metadata": {
            "needs_background": "light"
          }
        },
        {
          "output_type": "stream",
          "name": "stdout",
          "text": [
            "Number of Trials: 10000\n",
            "Average Distance When Starting towards Atlanta: 1961.395 miles\n",
            "Average Distance When Starting towards Nashville: 1903.637 miles\n",
            "Mad Max should start towards Nashville\n"
          ]
        }
      ]
    },
    {
      "cell_type": "code",
      "source": [
        ""
      ],
      "metadata": {
        "id": "a0Xi6uodFvnw"
      },
      "execution_count": 11,
      "outputs": []
    }
  ]
}